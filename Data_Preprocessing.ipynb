{
  "cells": [
    {
      "cell_type": "markdown",
      "metadata": {
        "id": "view-in-github",
        "colab_type": "text"
      },
      "source": [
        "<a href=\"https://colab.research.google.com/github/Duyuyuy/Airbnb_Analysis_Project/blob/main/Data_Preprocessing.ipynb\" target=\"_parent\"><img src=\"https://colab.research.google.com/assets/colab-badge.svg\" alt=\"Open In Colab\"/></a>"
      ]
    },
    {
      "cell_type": "markdown",
      "metadata": {
        "id": "dEjfZydK2Mxt"
      },
      "source": [
        "\n",
        "# **Project - Los Angeles Airbnb data analysis**\n",
        "\n",
        "Trần Bảo Duy - ITDSIU20061\n"
      ]
    },
    {
      "cell_type": "code",
      "execution_count": null,
      "metadata": {
        "id": "UD_7-F2Y3WyJ"
      },
      "outputs": [],
      "source": [
        "from google.colab import drive\n",
        "drive.mount('/content/gdrive')"
      ]
    },
    {
      "cell_type": "code",
      "execution_count": null,
      "metadata": {
        "id": "RSQUom-bGhjN"
      },
      "outputs": [],
      "source": [
        "!pip install fuzzywuzzy\n",
        "!pip install pandas_profiling==3.2.0\n",
        "!pip install folium\n",
        "!pip install markupsafe==2.0.1"
      ]
    },
    {
      "cell_type": "code",
      "execution_count": null,
      "metadata": {
        "id": "6GO7ezsx1jY0"
      },
      "outputs": [],
      "source": [
        "import os\n",
        "import re\n",
        "import random\n",
        "import numpy as np\n",
        "import pandas as pd\n",
        "import folium as fo\n",
        "import seaborn as sns\n",
        "import pandas_profiling\n",
        "import plotly.express as px\n",
        "import matplotlib.pyplot as plt\n",
        "import matplotlib.ticker as mtick\n",
        "import matplotlib.patches as mpatches\n",
        "%matplotlib inline\n",
        "\n",
        "from scipy.stats import linregress\n",
        "from sklearn.metrics import r2_score\n",
        "from folium.plugins import BeautifyIcon\n",
        "from statsmodels.formula.api import logit\n",
        "from fuzzywuzzy import process\n",
        "from fuzzywuzzy import fuzz"
      ]
    },
    {
      "cell_type": "code",
      "execution_count": null,
      "metadata": {
        "id": "cA64FnvQ1n3O"
      },
      "outputs": [],
      "source": [
        "os.chdir('/content/gdrive/My Drive/data')"
      ]
    },
    {
      "cell_type": "markdown",
      "metadata": {
        "id": "VqM9SH4-7XHZ"
      },
      "source": [
        "## **I. Data Introduction**"
      ]
    },
    {
      "cell_type": "markdown",
      "metadata": {
        "id": "tn3SXTC57gJS"
      },
      "source": [
        "**Raw data collected from [Airbnb](http://insideairbnb.com/get-the-data/):**"
      ]
    },
    {
      "cell_type": "code",
      "execution_count": null,
      "metadata": {
        "id": "LHrDmO7o2LKR"
      },
      "outputs": [],
      "source": [
        "raw_data = pd.read_csv('listings.csv')"
      ]
    },
    {
      "cell_type": "markdown",
      "metadata": {
        "id": "YNjLrbb07_JZ"
      },
      "source": [
        "### **I.1. Data Size**"
      ]
    },
    {
      "cell_type": "markdown",
      "metadata": {
        "id": "M5Jri1c475AT"
      },
      "source": [
        "The data include 75 columns, listed below:"
      ]
    },
    {
      "cell_type": "code",
      "execution_count": null,
      "metadata": {
        "id": "STl_m99LwR6p"
      },
      "outputs": [],
      "source": [
        "raw_data.info()"
      ]
    },
    {
      "cell_type": "markdown",
      "metadata": {
        "id": "iZLxAH8l8G3S"
      },
      "source": [
        "Along with the length of 45815 rows"
      ]
    },
    {
      "cell_type": "code",
      "execution_count": null,
      "metadata": {
        "id": "hxrzIKbv8Lwi"
      },
      "outputs": [],
      "source": [
        "print('This data contains {} rows'.format(len(raw_data)))"
      ]
    },
    {
      "cell_type": "markdown",
      "metadata": {
        "id": "YO63VoOT8bbF"
      },
      "source": [
        "### **I.2. Data Columns**"
      ]
    },
    {
      "cell_type": "markdown",
      "metadata": {
        "id": "GVmqDQ878jFZ"
      },
      "source": [
        "In total of 75 columns, there are 25 columns with worthy insights. Therefore, this project drops out all other 50 columns."
      ]
    },
    {
      "cell_type": "code",
      "execution_count": null,
      "metadata": {
        "id": "mRki7ksT2SjR"
      },
      "outputs": [],
      "source": [
        "data = raw_data.drop(columns = ['listing_url', 'scrape_id', 'last_scraped', 'source', 'reviews_per_month', 'number_of_reviews_l30d', 'number_of_reviews_ltm',\n",
        "                                'calendar_last_scraped', 'availability_90', 'availability_30', 'availability_60', 'has_availability', 'calendar_updated',\n",
        "                                'minimum_minimum_nights', 'maximum_minimum_nights', 'minimum_maximum_nights', 'maximum_maximum_nights', 'maximum_nights_avg_ntm',\n",
        "                                'minimum_nights_avg_ntm', 'host_is_superhost', 'host_about', 'host_location', 'host_name', 'host_since', 'host_url', 'picture_url',\n",
        "                                'host_response_time', 'host_response_rate', 'host_acceptance_rate', 'host_thumbnail_url', 'host_picture_url', 'host_verifications',\n",
        "                                'license', 'calculated_host_listings_count_shared_rooms', 'calculated_host_listings_count_private_rooms',\n",
        "                                'calculated_host_listings_count_entire_homes', 'calculated_host_listings_count','host_listings_count', 'host_has_profile_pic',\n",
        "                                'host_neighbourhood', 'first_review', 'last_review', 'bathrooms', 'neighbourhood_group_cleansed', 'neighbourhood', 'bathrooms',\n",
        "                                'neighborhood_overview', 'name', 'description', 'host_total_listings_count', 'beds'])"
      ]
    },
    {
      "cell_type": "markdown",
      "metadata": {
        "id": "olzv8Kwm95WZ"
      },
      "source": [
        "The remained data contains 25 columns and 45815 rows."
      ]
    },
    {
      "cell_type": "markdown",
      "metadata": {
        "id": "D3UlpQqf-GAI"
      },
      "source": [
        "*Columns:*"
      ]
    },
    {
      "cell_type": "code",
      "execution_count": null,
      "metadata": {
        "id": "GbdDhgW093ID"
      },
      "outputs": [],
      "source": [
        "data.info()"
      ]
    },
    {
      "cell_type": "markdown",
      "metadata": {
        "id": "8kBeU9jG-mMr"
      },
      "source": [
        "*Rows:*"
      ]
    },
    {
      "cell_type": "code",
      "execution_count": null,
      "metadata": {
        "id": "SWnlwyc-9pTF"
      },
      "outputs": [],
      "source": [
        "print('This data contains {} rows'.format(len(data)))"
      ]
    },
    {
      "cell_type": "markdown",
      "metadata": {
        "id": "21Ws9JbgO4at"
      },
      "source": [
        "## **II. Data Preprocessing**"
      ]
    },
    {
      "cell_type": "markdown",
      "metadata": {
        "id": "o1fSs7At6RnN"
      },
      "source": [
        "### **II.1. Remove null value**"
      ]
    },
    {
      "cell_type": "markdown",
      "metadata": {
        "id": "QlmFyDUd_tkk"
      },
      "source": [
        "There are 10 columns that contain null values in this data, including:"
      ]
    },
    {
      "cell_type": "code",
      "execution_count": null,
      "metadata": {
        "id": "7d_zhlmH_1Lg"
      },
      "outputs": [],
      "source": [
        "for c in data.columns:\n",
        "  if data[c].isnull().values.any():\n",
        "    print(c)"
      ]
    },
    {
      "cell_type": "markdown",
      "metadata": {
        "id": "HnHjnZhfECml"
      },
      "source": [
        "This section divides null-contain columns into 3 categories and handles them in 3 different ways."
      ]
    },
    {
      "cell_type": "markdown",
      "metadata": {
        "id": "RM0cn2PTEV3k"
      },
      "source": [
        "*Columns with large number of nulls:*"
      ]
    },
    {
      "cell_type": "code",
      "execution_count": null,
      "metadata": {
        "id": "hNsp8cGY7j0d"
      },
      "outputs": [],
      "source": [
        "# Create a view table with columns having large number of nulls:\n",
        "#replace 0 rating by 1 (min rating=1)\n",
        "\n",
        "table = data[['host_id', 'review_scores_rating', 'review_scores_accuracy', 'review_scores_cleanliness', 'review_scores_checkin', 'review_scores_communication',\n",
        "              'review_scores_location', 'review_scores_value']]\n",
        "table.replace(to_replace = 0, value = 1, inplace = True)\n",
        "table = table.groupby('host_id').agg(np.nanmean).reset_index()\n",
        "table"
      ]
    },
    {
      "cell_type": "code",
      "execution_count": null,
      "metadata": {
        "id": "i5AZOV2dALLe"
      },
      "outputs": [],
      "source": [
        "# Remove all rows with no data:\n",
        "\n",
        "table = table[~table.isna().any(axis=1)]\n",
        "table"
      ]
    },
    {
      "cell_type": "code",
      "execution_count": null,
      "metadata": {
        "id": "sJSnfUttFy_K"
      },
      "outputs": [],
      "source": [
        "# Merge the table with the data by removing old columns and add columns in the table to the data:\n",
        "\n",
        "data = data.drop(columns=['review_scores_rating', 'review_scores_accuracy', 'review_scores_cleanliness', 'review_scores_checkin', 'review_scores_communication',\n",
        "                          'review_scores_location', 'review_scores_value'])\n",
        "data = data.merge(table, on = 'host_id')\n",
        "data"
      ]
    },
    {
      "cell_type": "markdown",
      "metadata": {
        "id": "G1we3u8eMKcD"
      },
      "source": [
        "*bedrooms column:*"
      ]
    },
    {
      "cell_type": "code",
      "execution_count": null,
      "metadata": {
        "id": "ygYVSelJIWmi"
      },
      "outputs": [],
      "source": [
        "value = {\"bedrooms\" : 1} \n",
        "data.fillna(value = value, inplace = True)"
      ]
    },
    {
      "cell_type": "markdown",
      "metadata": {
        "id": "bbp-FxpsIkfm"
      },
      "source": [
        "*Other columns:*"
      ]
    },
    {
      "cell_type": "code",
      "execution_count": null,
      "metadata": {
        "id": "gcdHA_-mYFxx"
      },
      "outputs": [],
      "source": [
        "# Remove nulls in bathroom_text column:\n",
        "\n",
        "data = data[~data['bathrooms_text'].isna()]"
      ]
    },
    {
      "cell_type": "code",
      "execution_count": null,
      "metadata": {
        "id": "gZp7K4cLdXrx"
      },
      "outputs": [],
      "source": [
        "# Remove nulls in host_identity_verified column:\n",
        "\n",
        "data = data[~data['host_identity_verified'].isna()]"
      ]
    },
    {
      "cell_type": "markdown",
      "metadata": {
        "id": "NVIENes4JHiO"
      },
      "source": [
        "Data after removing all null values:"
      ]
    },
    {
      "cell_type": "code",
      "execution_count": null,
      "metadata": {
        "id": "m45XSc34JLaE"
      },
      "outputs": [],
      "source": [
        "data"
      ]
    },
    {
      "cell_type": "markdown",
      "metadata": {
        "id": "fRMJ14psM4Ik"
      },
      "source": [
        "### **II.2. Modify column**"
      ]
    },
    {
      "cell_type": "markdown",
      "metadata": {
        "id": "a3muMSJzFLof"
      },
      "source": [
        "Modify *bathrooms_text* column:"
      ]
    },
    {
      "cell_type": "code",
      "execution_count": null,
      "metadata": {
        "id": "q1j2MejBf6f-"
      },
      "outputs": [],
      "source": [
        "\n",
        "# Converting function:\n",
        "\n",
        "def convert(n):\n",
        "  if \"half-bath\" in str(n):\n",
        "    return 1\n",
        "  if re.findall('[\\d]*[.]?[\\d]*', str(n))[0] != '':\n",
        "    return int(np.ceil(float(re.findall('[\\d]*[.]?[\\d]*', str(n))[0])))"
      ]
    },
    {
      "cell_type": "code",
      "execution_count": null,
      "metadata": {
        "id": "NAET2sH4kpd2"
      },
      "outputs": [],
      "source": [
        "# Add new columns and drop old column:\n",
        "\n",
        "data['num_of_bath'] = [convert(n) for n in list(data['bathrooms_text'])]\n",
        "data['bath_type'] = ['share' if 'share' in str(n) else 'private' for n in list(data['bathrooms_text'])]\n",
        "data = data[~data['num_of_bath'].isnull()]\n",
        "data.drop('bathrooms_text', axis = 1, inplace = True)\n",
        "\n",
        "data[['num_of_bath', 'bath_type']]"
      ]
    },
    {
      "cell_type": "markdown",
      "metadata": {
        "id": "hBnGdgjqRT4d"
      },
      "source": [
        "Modify *property_type* column:"
      ]
    },
    {
      "cell_type": "code",
      "execution_count": null,
      "metadata": {
        "id": "7WxXp2ieFgoF"
      },
      "outputs": [],
      "source": [
        "cat = ['home', 'condo', 'guesthouse', 'rental unit', 'suite', 'villa', 'townhouse' , 'bungalow', 'apartment', 'loft', 'hotel', 'cottage',\n",
        "       'bed and breakfast', 'resort', 'hostel', 'camper/rv']  \n",
        "dic = {}\n",
        "count = 0\n",
        "\n",
        "for state in cat:  \n",
        "    matches = process.extract(state, data['property_type'], limit = data.shape[0])\n",
        "    for potential_match in matches:\n",
        "        if potential_match[1] >= 80:    \n",
        "\n",
        "\n",
        "            data.loc[data['property_type'] == potential_match[0], 'property_type'] = state\n",
        "\n",
        "d = data.loc[data['property_type'].isin(cat) == False , 'property_type'] = 'others'\n",
        "\n",
        "data['property_type'].unique()"
      ]
    },
    {
      "cell_type": "markdown",
      "metadata": {
        "id": "JxcT0xpmcU3V"
      },
      "source": [
        "Modify *price* column:"
      ]
    },
    {
      "cell_type": "code",
      "execution_count": null,
      "metadata": {
        "id": "QqyCvvL_cRI2"
      },
      "outputs": [],
      "source": [
        "data['price'] = data['price'].str.replace('\\W', '').astype('int64') / 100\n",
        "data['price']"
      ]
    },
    {
      "cell_type": "markdown",
      "metadata": {
        "id": "AFMNx64UFSoY"
      },
      "source": [
        "Create *satisfied* column:"
      ]
    },
    {
      "cell_type": "code",
      "execution_count": null,
      "metadata": {
        "id": "Z3NaS11TFPdl"
      },
      "outputs": [],
      "source": [
        "data['satisfied'] = data.loc[:,['review_scores_rating', 'review_scores_accuracy', 'review_scores_cleanliness', 'review_scores_checkin',\n",
        "                                'review_scores_communication', 'review_scores_location', 'review_scores_value']].sum(axis = 1)\n",
        "data.loc[data['satisfied'] < 32.5, 'satisfied'] = 0\n",
        "data.loc[data['satisfied'] >= 32.5, 'satisfied'] = 1"
      ]
    },
    {
      "cell_type": "markdown",
      "metadata": {
        "id": "XHFos5CFDXfe"
      },
      "source": [
        "Data after modifying columns:"
      ]
    },
    {
      "cell_type": "code",
      "execution_count": null,
      "metadata": {
        "id": "wgUySa-bDafw"
      },
      "outputs": [],
      "source": [
        "data"
      ]
    },
    {
      "cell_type": "markdown",
      "metadata": {
        "id": "AQTQwkaAPt94"
      },
      "source": [
        "### **II.3. Removing extreme value** "
      ]
    },
    {
      "cell_type": "code",
      "execution_count": null,
      "metadata": {
        "id": "gn_x1yfKboYp"
      },
      "outputs": [],
      "source": [
        "data.info()"
      ]
    },
    {
      "cell_type": "code",
      "execution_count": null,
      "metadata": {
        "id": "l1kRP0KTb_FX"
      },
      "outputs": [],
      "source": [
        "fig, ax = plt.subplots(1, 2, figsize = (15, 4))\n",
        "sns.boxplot(x = list(data['minimum_nights']), ax = ax[0]); "
      ]
    },
    {
      "cell_type": "markdown",
      "metadata": {
        "id": "KX-pZN6bRLvW"
      },
      "source": [
        "Using the multi-condition filter:\n",
        "\n",
        "\n",
        "\n",
        "```\n",
        "maximum_nights < 2200 & bedrooms < 10 & price < 4000\n",
        "```\n",
        "\n"
      ]
    },
    {
      "cell_type": "code",
      "execution_count": null,
      "metadata": {
        "id": "EcDfn6zKQNFg"
      },
      "outputs": [],
      "source": [
        "filtered_data = data.query(\"maximum_nights < 2200 & bedrooms < 8 & price < 2500 & num_of_bath< 8 & minimum_nights<360\")"
      ]
    },
    {
      "cell_type": "markdown",
      "metadata": {
        "id": "CQINw4VPGTuy"
      },
      "source": [
        "Compare the data with the filtered data using boxplot:"
      ]
    },
    {
      "cell_type": "code",
      "execution_count": null,
      "metadata": {
        "id": "qcXDdInwPw2o"
      },
      "outputs": [],
      "source": [
        "fig, ax = plt.subplots(1, 2, figsize = (15, 4))\n",
        "sns.boxplot(x = list(data['maximum_nights']), ax = ax[0]); \n",
        "sns.boxplot(x = list(filtered_data['maximum_nights']), ax = ax[1]); \n",
        "plt.show()"
      ]
    },
    {
      "cell_type": "code",
      "execution_count": null,
      "metadata": {
        "id": "s9aQmZalP-wv"
      },
      "outputs": [],
      "source": [
        "fig, ax = plt.subplots(1, 2, figsize = (15, 4))\n",
        "sns.boxplot(x = list(data['price']), ax = ax[0]); \n",
        "sns.boxplot(x = list(filtered_data['price']), ax = ax[1]); \n",
        "plt.show() "
      ]
    },
    {
      "cell_type": "code",
      "execution_count": null,
      "metadata": {
        "id": "hxSzK1iUQF6o"
      },
      "outputs": [],
      "source": [
        "fig, ax = plt.subplots(1, 2, figsize = (15, 4))\n",
        "sns.boxplot(x = list(data['bedrooms']), ax = ax[0]); \n",
        "sns.boxplot(x = list(filtered_data['bedrooms']), ax = ax[1]); \n",
        "plt.show()"
      ]
    },
    {
      "cell_type": "markdown",
      "metadata": {
        "id": "cIRpTYyWGZ--"
      },
      "source": [
        "The number of outliers is reduced, therefore the filtered data is better than the old one."
      ]
    },
    {
      "cell_type": "code",
      "execution_count": null,
      "metadata": {
        "id": "Czgy6qFDMnxV"
      },
      "outputs": [],
      "source": [
        "data = filtered_data"
      ]
    },
    {
      "cell_type": "markdown",
      "metadata": {
        "id": "tQj7UdqpQeQU"
      },
      "source": [
        "### **II.4. Randomize value** "
      ]
    },
    {
      "cell_type": "markdown",
      "metadata": {
        "id": "nLsvoe9tTHGm"
      },
      "source": [
        "Randomize *availability_365* column:"
      ]
    },
    {
      "cell_type": "code",
      "execution_count": null,
      "metadata": {
        "id": "-mEQ1VeSHT7R"
      },
      "outputs": [],
      "source": [
        "v = data[data['availability_365'] != 0]\n",
        "s = data[data['availability_365'] == 0]\n",
        "\n",
        "filler = v['availability_365'].sample(n = len(s)).tolist()\n",
        "s['availability_365'] = [a for a in filler]\n",
        "\n",
        "randomized_data = pd.concat([s, v], ignore_index = True)"
      ]
    },
    {
      "cell_type": "markdown",
      "metadata": {
        "id": "vo863Pi5I6HJ"
      },
      "source": [
        "Compared randomize data with data using boxplot:"
      ]
    },
    {
      "cell_type": "code",
      "execution_count": null,
      "metadata": {
        "id": "VVL_N_3pTTNu"
      },
      "outputs": [],
      "source": [
        "fig, ax = plt.subplots(1, 2, figsize = (15, 4))\n",
        "sns.histplot(data['availability_365'], ax = ax[0], kde = True); \n",
        "sns.histplot(randomized_data['availability_365'], ax = ax[1], kde = True); \n",
        "plt.show()"
      ]
    },
    {
      "cell_type": "markdown",
      "metadata": {
        "id": "izDcwgPAJcos"
      },
      "source": [
        "After randomizing, the data has little change but all the zero values are removed"
      ]
    },
    {
      "cell_type": "code",
      "execution_count": null,
      "metadata": {
        "id": "wOOYcdAU7j40"
      },
      "outputs": [],
      "source": [
        "data = randomized_data"
      ]
    },
    {
      "cell_type": "markdown",
      "metadata": {
        "id": "S4RNyxirWx7n"
      },
      "source": [
        "Randomize *number_of_reviews* column:"
      ]
    },
    {
      "cell_type": "code",
      "execution_count": null,
      "metadata": {
        "id": "H2i38g4jW0Ie"
      },
      "outputs": [],
      "source": [
        "data.loc[data['number_of_reviews'] == 0, 'number_of_reviews'] = random.randint(1, 10)"
      ]
    },
    {
      "cell_type": "markdown",
      "metadata": {
        "id": "aHvVyTTCbKWs"
      },
      "source": [
        "### **II.5. Encoding binomial datadata**"
      ]
    },
    {
      "cell_type": "markdown",
      "metadata": {
        "id": "0VkJASx4KgiS"
      },
      "source": [
        "Encode *host_identity_verified* column:"
      ]
    },
    {
      "cell_type": "code",
      "execution_count": null,
      "metadata": {
        "id": "KEd9nBxBbLy2"
      },
      "outputs": [],
      "source": [
        "data['host_identity_verified'] = data['host_identity_verified'].replace({'t' : 1, 'f' : 0})"
      ]
    },
    {
      "cell_type": "markdown",
      "metadata": {
        "id": "KiYVtDyeKrDW"
      },
      "source": [
        "Encode *bath_type* column:"
      ]
    },
    {
      "cell_type": "code",
      "execution_count": null,
      "metadata": {
        "id": "bbgoKdg0bbng"
      },
      "outputs": [],
      "source": [
        "data['bath_type'] = data['bath_type'].replace({'private' : 1, 'share' : 0})"
      ]
    },
    {
      "cell_type": "markdown",
      "metadata": {
        "id": "egJzau8RbfWa"
      },
      "source": [
        "Encode *instant_bookable* column:"
      ]
    },
    {
      "cell_type": "code",
      "execution_count": null,
      "metadata": {
        "id": "cbLFjR9SWAFx"
      },
      "outputs": [],
      "source": [
        "data['instant_bookable'] = data['instant_bookable'].replace({'t' : 1, 'f' : 0})"
      ]
    }
  ],
  "metadata": {
    "colab": {
      "provenance": [],
      "collapsed_sections": [
        "_ZzfnqIY4cIS"
      ],
      "include_colab_link": true
    },
    "kernelspec": {
      "display_name": "Python 3",
      "name": "python3"
    },
    "language_info": {
      "name": "python"
    }
  },
  "nbformat": 4,
  "nbformat_minor": 0
}